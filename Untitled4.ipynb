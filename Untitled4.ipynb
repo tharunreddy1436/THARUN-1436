{
  "nbformat": 4,
  "nbformat_minor": 0,
  "metadata": {
    "colab": {
      "provenance": [],
      "authorship_tag": "ABX9TyPsWddwvtZy6ixZh7bhJB7L",
      "include_colab_link": true
    },
    "kernelspec": {
      "name": "python3",
      "display_name": "Python 3"
    },
    "language_info": {
      "name": "python"
    }
  },
  "cells": [
    {
      "cell_type": "markdown",
      "metadata": {
        "id": "view-in-github",
        "colab_type": "text"
      },
      "source": [
        "<a href=\"https://colab.research.google.com/github/tharunreddy1436/THARUN-1436/blob/main/Untitled4.ipynb\" target=\"_parent\"><img src=\"https://colab.research.google.com/assets/colab-badge.svg\" alt=\"Open In Colab\"/></a>"
      ]
    },
    {
      "cell_type": "code",
      "source": [
        "def Temperature_modeling(a,b,c,time):\n",
        "    temperature = a*time**2 + b*time + c\n",
        "    return temperature\n",
        "a, b, c = 0.1, 2, 10\n",
        "time = 5\n",
        "print(\"Hard-coded variables for weather modeling\")\n",
        "print(\"Temperature for hardcoded coefficients at time\", time, \"hours:\", Temperature_modeling(a,b,c,time))"
      ],
      "metadata": {
        "colab": {
          "base_uri": "https://localhost:8080/"
        },
        "id": "9jwHi7N3IHyh",
        "outputId": "4bab2303-5888-48f4-c2bf-c7929a283215"
      },
      "execution_count": null,
      "outputs": [
        {
          "output_type": "stream",
          "name": "stdout",
          "text": [
            "Hard-coded variables for weather modeling\n",
            "Temperature for hardcoded coefficients at time 5 hours: 22.5\n"
          ]
        }
      ]
    },
    {
      "cell_type": "code",
      "source": [
        "def Temperature_modeling(a,b,c,time):\n",
        "    temperature = a*time**2 + b*time + c\n",
        "    return temperature\n",
        "a=float(input(\"Enter coefficient a: \"))\n",
        "b=float(input(\"enter coefficient b: \"))\n",
        "c=float(input(\"enter coefficient c: \"))\n",
        "time=float(input(\"enter time\"))\n",
        "print(\"Hard-coded variables for weather modeling\")\n",
        "print(\"Temperature form keyboard coefficients at time\", time, \"hours:\", Temperature_modeling(a,b,c,time))"
      ],
      "metadata": {
        "colab": {
          "base_uri": "https://localhost:8080/"
        },
        "id": "GlF2fLUYJV0m",
        "outputId": "a5097417-b907-42ac-f987-fc36ab6e0ebc"
      },
      "execution_count": null,
      "outputs": [
        {
          "output_type": "stream",
          "name": "stdout",
          "text": [
            "Enter coefficient a: 0.1\n",
            "enter coefficient b: 3\n",
            "enter coefficient c: 10\n",
            "enter time4\n",
            "Hard-coded variables for weather modeling\n",
            "Temperature form keyboard coefficients at time 4.0 hours: 23.6\n"
          ]
        }
      ]
    },
    {
      "cell_type": "code",
      "source": [
        "def read_from_file(filename):\n",
        "    with open(filename, 'r') as file:\n",
        "        lines = file.readlines()\n",
        "    coefficients = [tuple(map(float, line.strip().split(','))) for line in lines]\n",
        "    return coefficients\n",
        "\n"
      ],
      "metadata": {
        "id": "5DhYPzyzKEqO"
      },
      "execution_count": null,
      "outputs": []
    },
    {
      "cell_type": "code",
      "source": [
        "coefficients = read_from_file('/content/sew.txt')\n",
        "a, b, c, time = coefficients[0]\n",
        "temperature = Temperature_modeling(a, b, c, time)\n",
        "print(\"read from a file for weather modeling\")\n",
        "print(\"Temperature form keyboard coefficients at time\", time, \"hours:\", Temperature_modeling(a,b,c,time))\n"
      ],
      "metadata": {
        "colab": {
          "base_uri": "https://localhost:8080/"
        },
        "id": "Z1-HzBaINIEh",
        "outputId": "4726ec0c-6ddc-4b4e-a509-5d56a47eb62e"
      },
      "execution_count": null,
      "outputs": [
        {
          "output_type": "stream",
          "name": "stdout",
          "text": [
            "read from a file for weather modeling\n",
            "Temperature form keyboard coefficients at time 4.0 hours: 167.4\n"
          ]
        }
      ]
    },
    {
      "cell_type": "code",
      "source": [
        "for idx, (a, b, c, time) in enumerate(coefficients):\n",
        "  temperature = Temperature_modeling(a, b, c, time)\n",
        "  print(\"Temperature form keyboard coefficients at time\", time, \"hours:\", Temperature_modeling(a,b,c,time))"
      ],
      "metadata": {
        "colab": {
          "base_uri": "https://localhost:8080/"
        },
        "id": "Mlc0gMGoOas9",
        "outputId": "1b4f85b2-a691-4320-a3ec-f37a3a6619c5"
      },
      "execution_count": null,
      "outputs": [
        {
          "output_type": "stream",
          "name": "stdout",
          "text": [
            "Temperature form keyboard coefficients at time 4.0 hours: 167.4\n",
            "Temperature form keyboard coefficients at time 6.0 hours: 34.2\n"
          ]
        }
      ]
    }
  ]
}